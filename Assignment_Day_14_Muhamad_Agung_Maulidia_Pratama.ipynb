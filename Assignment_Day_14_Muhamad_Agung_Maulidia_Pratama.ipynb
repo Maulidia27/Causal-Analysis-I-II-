{
  "nbformat": 4,
  "nbformat_minor": 0,
  "metadata": {
    "colab": {
      "name": "Assignment Day 14 - Muhamad Agung Maulidia Pratama.ipynb",
      "provenance": [],
      "collapsed_sections": []
    },
    "kernelspec": {
      "name": "python3",
      "display_name": "Python 3"
    },
    "language_info": {
      "name": "python"
    }
  },
  "cells": [
    {
      "cell_type": "markdown",
      "source": [
        "# **Causal Analysis I & II - Basic**"
      ],
      "metadata": {
        "id": "mDGjkUe3kwnJ"
      }
    },
    {
      "cell_type": "markdown",
      "source": [
        "1.\tProses matching dapat membantu causal analyst berdasarkan persamaan dari setiap profile yang match dari group treatment dengan group control. Sehingga cofounder tidak memiliki efek lagi karena secara profile sudah sama. Menemukan data yang serupa dalam satu dimensi (skor kecenderungan) jauh lebih mudah dari pada melakukannya di banyak dimensi (confounder). Hal tersebut sama dengan tentang metode Dimensi Reduction. propensity score adalah skor penyeimbang. Ini berarti, jika kita mencocokkan data berdasarkan propensity, distribusi pembaur antara data yang cocok akan cenderung serupa. \n",
        "Reference: https://towardsdatascience.com/propensity-score-matching-a0d373863eec"
      ],
      "metadata": {
        "id": "8G8b21GZk3lW"
      }
    },
    {
      "cell_type": "markdown",
      "source": [
        "2.\tDouble ML lebik baik digunakan karena dapat mengukur heterogeneous/treatment effect tapi bukan rata-rata populasi tapi dapat mengetahui dampak setiap row secara lebih detail atau spesifik sedangkan double selection tidak dapat mengukur hal tersebut atau dapat dikatakan untuk double selection :\n",
        "a.\ttidak ada kovariat\n",
        "b.\tsemua kemungkinan kovariat (ini menghasilkan multikolinearitas sempurna) hampir semua kemungkinan kovariat\n",
        "c.\tsatu set kovariat terbatas (menebak beberapa dengan benar, tetapi menyertakan yang lain yang seharusnya tidak ada dalam model)\n",
        "Atribut penting dari Double ML adalah bahwa kita tidak perlu menggunakan LASSO dan OLS untuk menghitung residu; alat lain seperti Random Forest, boosted tree, dan bahkan neural nets yang dalam juga dapat digunakan pada langkah pertama tersebut.\n",
        "Reference : https://www.r-bloggers.com/2017/05/problems-of-causal-inference-after-selecting-of-controls/"
      ],
      "metadata": {
        "id": "gCB2NO6IlPPj"
      }
    },
    {
      "cell_type": "markdown",
      "source": [
        "3.\tATE ; average treatment effect dapat digunakan saat (ukuran populasi, mencari selisih dari outcome treatment dan without treatment kemudian dihitung rata-rata)\n",
        "CATE: Conditional average treatment effect , menghitung tiap kategori dari yang dilakukan treatment (Tergantung kondisi, contohnya berdasarkan gender, Pendidikan,  dll), dapat memberikan insgint yang lebih detail dan yang memiliki group\n",
        "LATE : Local Average treatment Effect dapat diestimasi oleh ratio estimasi efek intent-to-treat effect ( Kondisi dimana tidak menjalankan prosedur, biasanya terjadi di eksperiment akademik\n",
        "Reference : https://egap.org/resource/10-things-to-know-about-the-local-average-treatment-effect/"
      ],
      "metadata": {
        "id": "gonp_zoUmMIh"
      }
    },
    {
      "cell_type": "markdown",
      "source": [
        "4.\tUntuk dapat menjelaskan metode mana yang dapat menjelaskan dampak dari akibat yaitu dengan metode evaluasi dengan mengagregasi voting dari dampaknya, \n",
        "Model interpretable machine learning dapat digunakan untuk analisis kausal : Kemampuan ML untuk menemukan korelasi lebih dari cukup (mis: prediksi harga, klasifikasi objek, penargetan yang lebih baik, dll.). Memang, sistem ML unggul dalam mempelajari hubungan antara data input dan prediksi output, tetapi kurang dalam penalaran tentang hubungan sebab-akibat atau perubahan lingkungan. Model ML yang dapat menangkap hubungan sebab akibat akan lebih dapat digeneralisasikan. Untuk model ML prediktif klasik untuk memberikan hasil kausal, fitur harus independen tidak hanya dari fitur lain dalam model, tetapi juga dari cofounder yang tidak teramati.\n",
        "Reference :\n",
        "https://towardsdatascience.com/be-careful-when-interpreting-predictive-models-in-search-of-causal-insights-e68626e664b6"
      ],
      "metadata": {
        "id": "vKgtlLSknkI7"
      }
    },
    {
      "cell_type": "markdown",
      "source": [
        "# **Causal Analysis I & II - Advanced**"
      ],
      "metadata": {
        "id": "cr0c9YCjqbBu"
      }
    },
    {
      "cell_type": "markdown",
      "source": [
        "\n",
        "# **Install and Load Packages**"
      ],
      "metadata": {
        "id": "7EJ7aTUniUBn"
      }
    },
    {
      "cell_type": "code",
      "source": [
        "!pip install psmpy\n",
        "!pip install pycausalimpact"
      ],
      "metadata": {
        "colab": {
          "base_uri": "https://localhost:8080/"
        },
        "id": "00bvB3HViZH9",
        "outputId": "bb48be34-935c-465e-a03b-d0006024c559"
      },
      "execution_count": 39,
      "outputs": [
        {
          "output_type": "stream",
          "name": "stdout",
          "text": [
            "Requirement already satisfied: psmpy in /usr/local/lib/python3.7/dist-packages (0.2.8)\n",
            "Requirement already satisfied: pandas in /usr/local/lib/python3.7/dist-packages (from psmpy) (1.3.5)\n",
            "Requirement already satisfied: seaborn in /usr/local/lib/python3.7/dist-packages (from psmpy) (0.11.2)\n",
            "Requirement already satisfied: scipy in /usr/local/lib/python3.7/dist-packages (from psmpy) (1.4.1)\n",
            "Requirement already satisfied: matplotlib in /usr/local/lib/python3.7/dist-packages (from psmpy) (3.2.2)\n",
            "Requirement already satisfied: numpy in /usr/local/lib/python3.7/dist-packages (from psmpy) (1.21.6)\n",
            "Requirement already satisfied: sklearn in /usr/local/lib/python3.7/dist-packages (from psmpy) (0.0)\n",
            "Requirement already satisfied: pyparsing!=2.0.4,!=2.1.2,!=2.1.6,>=2.0.1 in /usr/local/lib/python3.7/dist-packages (from matplotlib->psmpy) (3.0.9)\n",
            "Requirement already satisfied: cycler>=0.10 in /usr/local/lib/python3.7/dist-packages (from matplotlib->psmpy) (0.11.0)\n",
            "Requirement already satisfied: kiwisolver>=1.0.1 in /usr/local/lib/python3.7/dist-packages (from matplotlib->psmpy) (1.4.2)\n",
            "Requirement already satisfied: python-dateutil>=2.1 in /usr/local/lib/python3.7/dist-packages (from matplotlib->psmpy) (2.8.2)\n",
            "Requirement already satisfied: typing-extensions in /usr/local/lib/python3.7/dist-packages (from kiwisolver>=1.0.1->matplotlib->psmpy) (4.2.0)\n",
            "Requirement already satisfied: six>=1.5 in /usr/local/lib/python3.7/dist-packages (from python-dateutil>=2.1->matplotlib->psmpy) (1.15.0)\n",
            "Requirement already satisfied: pytz>=2017.3 in /usr/local/lib/python3.7/dist-packages (from pandas->psmpy) (2022.1)\n",
            "Requirement already satisfied: scikit-learn in /usr/local/lib/python3.7/dist-packages (from sklearn->psmpy) (1.0.2)\n",
            "Requirement already satisfied: joblib>=0.11 in /usr/local/lib/python3.7/dist-packages (from scikit-learn->sklearn->psmpy) (1.1.0)\n",
            "Requirement already satisfied: threadpoolctl>=2.0.0 in /usr/local/lib/python3.7/dist-packages (from scikit-learn->sklearn->psmpy) (3.1.0)\n",
            "Requirement already satisfied: pycausalimpact in /usr/local/lib/python3.7/dist-packages (0.1.1)\n",
            "Requirement already satisfied: statsmodels>=0.11.0 in /usr/local/lib/python3.7/dist-packages (from pycausalimpact) (0.13.2)\n",
            "Requirement already satisfied: numpy in /usr/local/lib/python3.7/dist-packages (from pycausalimpact) (1.21.6)\n",
            "Requirement already satisfied: jinja2>=2.10 in /usr/local/lib/python3.7/dist-packages (from pycausalimpact) (2.11.3)\n",
            "Requirement already satisfied: matplotlib>=2.2.3 in /usr/local/lib/python3.7/dist-packages (from pycausalimpact) (3.2.2)\n",
            "Requirement already satisfied: scipy in /usr/local/lib/python3.7/dist-packages (from pycausalimpact) (1.4.1)\n",
            "Requirement already satisfied: MarkupSafe>=0.23 in /usr/local/lib/python3.7/dist-packages (from jinja2>=2.10->pycausalimpact) (2.0.1)\n",
            "Requirement already satisfied: kiwisolver>=1.0.1 in /usr/local/lib/python3.7/dist-packages (from matplotlib>=2.2.3->pycausalimpact) (1.4.2)\n",
            "Requirement already satisfied: cycler>=0.10 in /usr/local/lib/python3.7/dist-packages (from matplotlib>=2.2.3->pycausalimpact) (0.11.0)\n",
            "Requirement already satisfied: pyparsing!=2.0.4,!=2.1.2,!=2.1.6,>=2.0.1 in /usr/local/lib/python3.7/dist-packages (from matplotlib>=2.2.3->pycausalimpact) (3.0.9)\n",
            "Requirement already satisfied: python-dateutil>=2.1 in /usr/local/lib/python3.7/dist-packages (from matplotlib>=2.2.3->pycausalimpact) (2.8.2)\n",
            "Requirement already satisfied: typing-extensions in /usr/local/lib/python3.7/dist-packages (from kiwisolver>=1.0.1->matplotlib>=2.2.3->pycausalimpact) (4.2.0)\n",
            "Requirement already satisfied: six>=1.5 in /usr/local/lib/python3.7/dist-packages (from python-dateutil>=2.1->matplotlib>=2.2.3->pycausalimpact) (1.15.0)\n",
            "Requirement already satisfied: packaging>=21.3 in /usr/local/lib/python3.7/dist-packages (from statsmodels>=0.11.0->pycausalimpact) (21.3)\n",
            "Requirement already satisfied: patsy>=0.5.2 in /usr/local/lib/python3.7/dist-packages (from statsmodels>=0.11.0->pycausalimpact) (0.5.2)\n",
            "Requirement already satisfied: pandas>=0.25 in /usr/local/lib/python3.7/dist-packages (from statsmodels>=0.11.0->pycausalimpact) (1.3.5)\n",
            "Requirement already satisfied: pytz>=2017.3 in /usr/local/lib/python3.7/dist-packages (from pandas>=0.25->statsmodels>=0.11.0->pycausalimpact) (2022.1)\n"
          ]
        }
      ]
    },
    {
      "cell_type": "code",
      "source": [
        "# load data wrangling package\n",
        "import pandas as pd\n",
        "import numpy as np\n",
        "import matplotlib.pyplot as plt\n",
        "import seaborn as sns\n",
        "\n",
        "# statsmodels for linear/logistic regression and Granger causality test\n",
        "import statsmodels.api as sm\n",
        "from statsmodels.tsa.stattools import grangercausalitytests\n",
        "\n",
        "# psmpy for propensity score modeling and plotting\n",
        "from psmpy import PsmPy\n",
        "from psmpy.functions import cohenD\n",
        "from psmpy.plotting import *\n",
        "\n",
        "# causalimpact for intervention analysis\n",
        "from causalimpact import CausalImpact"
      ],
      "metadata": {
        "id": "Nmk-W7YqinNx"
      },
      "execution_count": 2,
      "outputs": []
    },
    {
      "cell_type": "markdown",
      "source": [
        "# **Load Dataset**"
      ],
      "metadata": {
        "id": "eaGCNGPuiuYi"
      }
    },
    {
      "cell_type": "code",
      "source": [
        "mindset = pd.read_csv(\"https://raw.githubusercontent.com/hadimaster65555/dataset_for_teaching/main/dataset/learning_mindset/learning_mindset.csv\")"
      ],
      "metadata": {
        "id": "Z73YEgTeisEF"
      },
      "execution_count": 3,
      "outputs": []
    },
    {
      "cell_type": "markdown",
      "source": [
        "# **Propensity Score Matching**"
      ],
      "metadata": {
        "id": "EqIVbrh4jAJL"
      }
    },
    {
      "cell_type": "code",
      "source": [
        "#Check Data Sheet\n",
        "mindset.head()"
      ],
      "metadata": {
        "colab": {
          "base_uri": "https://localhost:8080/",
          "height": 206
        },
        "id": "_zcFBHdzjFR2",
        "outputId": "a78b96c0-67cd-42b6-d186-c60cc51fc286"
      },
      "execution_count": 5,
      "outputs": [
        {
          "output_type": "execute_result",
          "data": {
            "text/plain": [
              "   schoolid  intervention  achievement_score  success_expect  ethnicity  \\\n",
              "0        76             1           0.277359               6          4   \n",
              "1        76             1          -0.449646               4         12   \n",
              "2        76             1           0.769703               6          4   \n",
              "3        76             1          -0.121763               6          4   \n",
              "4        76             1           1.526147               6          4   \n",
              "\n",
              "   gender  frst_in_family  school_urbanicity  school_mindset  \\\n",
              "0       2               1                  4        0.334544   \n",
              "1       2               1                  4        0.334544   \n",
              "2       2               0                  4        0.334544   \n",
              "3       2               0                  4        0.334544   \n",
              "4       1               0                  4        0.334544   \n",
              "\n",
              "   school_achievement  school_ethnic_minority  school_poverty  school_size  \n",
              "0            0.648586               -1.310927        0.224077    -0.426757  \n",
              "1            0.648586               -1.310927        0.224077    -0.426757  \n",
              "2            0.648586               -1.310927        0.224077    -0.426757  \n",
              "3            0.648586               -1.310927        0.224077    -0.426757  \n",
              "4            0.648586               -1.310927        0.224077    -0.426757  "
            ],
            "text/html": [
              "\n",
              "  <div id=\"df-77b67d4f-9beb-497c-9474-347b5b48a120\">\n",
              "    <div class=\"colab-df-container\">\n",
              "      <div>\n",
              "<style scoped>\n",
              "    .dataframe tbody tr th:only-of-type {\n",
              "        vertical-align: middle;\n",
              "    }\n",
              "\n",
              "    .dataframe tbody tr th {\n",
              "        vertical-align: top;\n",
              "    }\n",
              "\n",
              "    .dataframe thead th {\n",
              "        text-align: right;\n",
              "    }\n",
              "</style>\n",
              "<table border=\"1\" class=\"dataframe\">\n",
              "  <thead>\n",
              "    <tr style=\"text-align: right;\">\n",
              "      <th></th>\n",
              "      <th>schoolid</th>\n",
              "      <th>intervention</th>\n",
              "      <th>achievement_score</th>\n",
              "      <th>success_expect</th>\n",
              "      <th>ethnicity</th>\n",
              "      <th>gender</th>\n",
              "      <th>frst_in_family</th>\n",
              "      <th>school_urbanicity</th>\n",
              "      <th>school_mindset</th>\n",
              "      <th>school_achievement</th>\n",
              "      <th>school_ethnic_minority</th>\n",
              "      <th>school_poverty</th>\n",
              "      <th>school_size</th>\n",
              "    </tr>\n",
              "  </thead>\n",
              "  <tbody>\n",
              "    <tr>\n",
              "      <th>0</th>\n",
              "      <td>76</td>\n",
              "      <td>1</td>\n",
              "      <td>0.277359</td>\n",
              "      <td>6</td>\n",
              "      <td>4</td>\n",
              "      <td>2</td>\n",
              "      <td>1</td>\n",
              "      <td>4</td>\n",
              "      <td>0.334544</td>\n",
              "      <td>0.648586</td>\n",
              "      <td>-1.310927</td>\n",
              "      <td>0.224077</td>\n",
              "      <td>-0.426757</td>\n",
              "    </tr>\n",
              "    <tr>\n",
              "      <th>1</th>\n",
              "      <td>76</td>\n",
              "      <td>1</td>\n",
              "      <td>-0.449646</td>\n",
              "      <td>4</td>\n",
              "      <td>12</td>\n",
              "      <td>2</td>\n",
              "      <td>1</td>\n",
              "      <td>4</td>\n",
              "      <td>0.334544</td>\n",
              "      <td>0.648586</td>\n",
              "      <td>-1.310927</td>\n",
              "      <td>0.224077</td>\n",
              "      <td>-0.426757</td>\n",
              "    </tr>\n",
              "    <tr>\n",
              "      <th>2</th>\n",
              "      <td>76</td>\n",
              "      <td>1</td>\n",
              "      <td>0.769703</td>\n",
              "      <td>6</td>\n",
              "      <td>4</td>\n",
              "      <td>2</td>\n",
              "      <td>0</td>\n",
              "      <td>4</td>\n",
              "      <td>0.334544</td>\n",
              "      <td>0.648586</td>\n",
              "      <td>-1.310927</td>\n",
              "      <td>0.224077</td>\n",
              "      <td>-0.426757</td>\n",
              "    </tr>\n",
              "    <tr>\n",
              "      <th>3</th>\n",
              "      <td>76</td>\n",
              "      <td>1</td>\n",
              "      <td>-0.121763</td>\n",
              "      <td>6</td>\n",
              "      <td>4</td>\n",
              "      <td>2</td>\n",
              "      <td>0</td>\n",
              "      <td>4</td>\n",
              "      <td>0.334544</td>\n",
              "      <td>0.648586</td>\n",
              "      <td>-1.310927</td>\n",
              "      <td>0.224077</td>\n",
              "      <td>-0.426757</td>\n",
              "    </tr>\n",
              "    <tr>\n",
              "      <th>4</th>\n",
              "      <td>76</td>\n",
              "      <td>1</td>\n",
              "      <td>1.526147</td>\n",
              "      <td>6</td>\n",
              "      <td>4</td>\n",
              "      <td>1</td>\n",
              "      <td>0</td>\n",
              "      <td>4</td>\n",
              "      <td>0.334544</td>\n",
              "      <td>0.648586</td>\n",
              "      <td>-1.310927</td>\n",
              "      <td>0.224077</td>\n",
              "      <td>-0.426757</td>\n",
              "    </tr>\n",
              "  </tbody>\n",
              "</table>\n",
              "</div>\n",
              "      <button class=\"colab-df-convert\" onclick=\"convertToInteractive('df-77b67d4f-9beb-497c-9474-347b5b48a120')\"\n",
              "              title=\"Convert this dataframe to an interactive table.\"\n",
              "              style=\"display:none;\">\n",
              "        \n",
              "  <svg xmlns=\"http://www.w3.org/2000/svg\" height=\"24px\"viewBox=\"0 0 24 24\"\n",
              "       width=\"24px\">\n",
              "    <path d=\"M0 0h24v24H0V0z\" fill=\"none\"/>\n",
              "    <path d=\"M18.56 5.44l.94 2.06.94-2.06 2.06-.94-2.06-.94-.94-2.06-.94 2.06-2.06.94zm-11 1L8.5 8.5l.94-2.06 2.06-.94-2.06-.94L8.5 2.5l-.94 2.06-2.06.94zm10 10l.94 2.06.94-2.06 2.06-.94-2.06-.94-.94-2.06-.94 2.06-2.06.94z\"/><path d=\"M17.41 7.96l-1.37-1.37c-.4-.4-.92-.59-1.43-.59-.52 0-1.04.2-1.43.59L10.3 9.45l-7.72 7.72c-.78.78-.78 2.05 0 2.83L4 21.41c.39.39.9.59 1.41.59.51 0 1.02-.2 1.41-.59l7.78-7.78 2.81-2.81c.8-.78.8-2.07 0-2.86zM5.41 20L4 18.59l7.72-7.72 1.47 1.35L5.41 20z\"/>\n",
              "  </svg>\n",
              "      </button>\n",
              "      \n",
              "  <style>\n",
              "    .colab-df-container {\n",
              "      display:flex;\n",
              "      flex-wrap:wrap;\n",
              "      gap: 12px;\n",
              "    }\n",
              "\n",
              "    .colab-df-convert {\n",
              "      background-color: #E8F0FE;\n",
              "      border: none;\n",
              "      border-radius: 50%;\n",
              "      cursor: pointer;\n",
              "      display: none;\n",
              "      fill: #1967D2;\n",
              "      height: 32px;\n",
              "      padding: 0 0 0 0;\n",
              "      width: 32px;\n",
              "    }\n",
              "\n",
              "    .colab-df-convert:hover {\n",
              "      background-color: #E2EBFA;\n",
              "      box-shadow: 0px 1px 2px rgba(60, 64, 67, 0.3), 0px 1px 3px 1px rgba(60, 64, 67, 0.15);\n",
              "      fill: #174EA6;\n",
              "    }\n",
              "\n",
              "    [theme=dark] .colab-df-convert {\n",
              "      background-color: #3B4455;\n",
              "      fill: #D2E3FC;\n",
              "    }\n",
              "\n",
              "    [theme=dark] .colab-df-convert:hover {\n",
              "      background-color: #434B5C;\n",
              "      box-shadow: 0px 1px 3px 1px rgba(0, 0, 0, 0.15);\n",
              "      filter: drop-shadow(0px 1px 2px rgba(0, 0, 0, 0.3));\n",
              "      fill: #FFFFFF;\n",
              "    }\n",
              "  </style>\n",
              "\n",
              "      <script>\n",
              "        const buttonEl =\n",
              "          document.querySelector('#df-77b67d4f-9beb-497c-9474-347b5b48a120 button.colab-df-convert');\n",
              "        buttonEl.style.display =\n",
              "          google.colab.kernel.accessAllowed ? 'block' : 'none';\n",
              "\n",
              "        async function convertToInteractive(key) {\n",
              "          const element = document.querySelector('#df-77b67d4f-9beb-497c-9474-347b5b48a120');\n",
              "          const dataTable =\n",
              "            await google.colab.kernel.invokeFunction('convertToInteractive',\n",
              "                                                     [key], {});\n",
              "          if (!dataTable) return;\n",
              "\n",
              "          const docLinkHtml = 'Like what you see? Visit the ' +\n",
              "            '<a target=\"_blank\" href=https://colab.research.google.com/notebooks/data_table.ipynb>data table notebook</a>'\n",
              "            + ' to learn more about interactive tables.';\n",
              "          element.innerHTML = '';\n",
              "          dataTable['output_type'] = 'display_data';\n",
              "          await google.colab.output.renderOutput(dataTable, element);\n",
              "          const docLink = document.createElement('div');\n",
              "          docLink.innerHTML = docLinkHtml;\n",
              "          element.appendChild(docLink);\n",
              "        }\n",
              "      </script>\n",
              "    </div>\n",
              "  </div>\n",
              "  "
            ]
          },
          "metadata": {},
          "execution_count": 5
        }
      ]
    },
    {
      "cell_type": "markdown",
      "source": [
        "**Penentuan variabel yang menjadi covariate (X), treatment (T), dan response (Y)**"
      ],
      "metadata": {
        "id": "SueFrsqYqnIf"
      }
    },
    {
      "cell_type": "markdown",
      "source": [
        "The variable that becomes\n",
        "a. covariate (X) =\n",
        "**school_poverty**; because this variable has the meaning of why a person becomes poor, namely starting from the mindset, reference: https://katadata.co.id/sitinuraeni/berita/620636c38eedf/penyebab-kemiskinan-dan-dampak-yang-ditimbulkan  \n",
        "**school_urbanicity**; because this variable provides an overview related to schoolid who has a place of origin or not so we can find out the impact of the schoolid place where the environment we live in whether it affects the mindset or not\n",
        "**frst_in_family**; This variable is of course highly assumed to provide an argument that the first child in a family is usually more mature than the other children in a family,\n",
        "b. treatment (T) = intervention.\n",
        "c. response (Y) = achievement_score\n"
      ],
      "metadata": {
        "id": "L49kQFDGqzY5"
      }
    },
    {
      "cell_type": "markdown",
      "source": [
        ""
      ],
      "metadata": {
        "id": "L3TqkjMeHQdR"
      }
    },
    {
      "cell_type": "code",
      "source": [
        "mindset.info()"
      ],
      "metadata": {
        "colab": {
          "base_uri": "https://localhost:8080/"
        },
        "id": "0EEIbCzVjVAX",
        "outputId": "2f3de360-d1c4-441a-c3f1-6d21b7ecb349"
      },
      "execution_count": 41,
      "outputs": [
        {
          "output_type": "stream",
          "name": "stdout",
          "text": [
            "<class 'pandas.core.frame.DataFrame'>\n",
            "RangeIndex: 10391 entries, 0 to 10390\n",
            "Data columns (total 13 columns):\n",
            " #   Column                  Non-Null Count  Dtype  \n",
            "---  ------                  --------------  -----  \n",
            " 0   schoolid                10391 non-null  int64  \n",
            " 1   intervention            10391 non-null  int64  \n",
            " 2   achievement_score       10391 non-null  int64  \n",
            " 3   success_expect          10391 non-null  int64  \n",
            " 4   ethnicity               10391 non-null  int64  \n",
            " 5   gender                  10391 non-null  int64  \n",
            " 6   frst_in_family          10391 non-null  int64  \n",
            " 7   school_urbanicity       10391 non-null  int64  \n",
            " 8   school_mindset          10391 non-null  float64\n",
            " 9   school_achievement      10391 non-null  float64\n",
            " 10  school_ethnic_minority  10391 non-null  float64\n",
            " 11  school_poverty          10391 non-null  float64\n",
            " 12  school_size             10391 non-null  float64\n",
            "dtypes: float64(5), int64(8)\n",
            "memory usage: 1.0 MB\n"
          ]
        }
      ]
    },
    {
      "cell_type": "code",
      "source": [
        "mindset['achievement_score'] = mindset['achievement_score'].astype(int)\n",
        "mindset['school_poverty'] = mindset['school_poverty'].astype(int)"
      ],
      "metadata": {
        "id": "PlDOXb86wKKi"
      },
      "execution_count": 42,
      "outputs": []
    },
    {
      "cell_type": "code",
      "source": [
        "mindset.info()"
      ],
      "metadata": {
        "colab": {
          "base_uri": "https://localhost:8080/"
        },
        "id": "xL1Hwe4Wwlgy",
        "outputId": "b53fca63-9cdd-43af-c522-e40c32eafde7"
      },
      "execution_count": 43,
      "outputs": [
        {
          "output_type": "stream",
          "name": "stdout",
          "text": [
            "<class 'pandas.core.frame.DataFrame'>\n",
            "RangeIndex: 10391 entries, 0 to 10390\n",
            "Data columns (total 13 columns):\n",
            " #   Column                  Non-Null Count  Dtype  \n",
            "---  ------                  --------------  -----  \n",
            " 0   schoolid                10391 non-null  int64  \n",
            " 1   intervention            10391 non-null  int64  \n",
            " 2   achievement_score       10391 non-null  int64  \n",
            " 3   success_expect          10391 non-null  int64  \n",
            " 4   ethnicity               10391 non-null  int64  \n",
            " 5   gender                  10391 non-null  int64  \n",
            " 6   frst_in_family          10391 non-null  int64  \n",
            " 7   school_urbanicity       10391 non-null  int64  \n",
            " 8   school_mindset          10391 non-null  float64\n",
            " 9   school_achievement      10391 non-null  float64\n",
            " 10  school_ethnic_minority  10391 non-null  float64\n",
            " 11  school_poverty          10391 non-null  int64  \n",
            " 12  school_size             10391 non-null  float64\n",
            "dtypes: float64(4), int64(9)\n",
            "memory usage: 1.0 MB\n"
          ]
        }
      ]
    },
    {
      "cell_type": "markdown",
      "source": [
        "# **Data Inspection**"
      ],
      "metadata": {
        "id": "92XKYO-ZjgyR"
      }
    },
    {
      "cell_type": "code",
      "source": [
        "mindset_group = mindset.groupby('intervention').agg({\n",
        "    'schoolid': 'nunique',\n",
        "    'achievement_score': 'mean'\n",
        "}).rename(columns={\n",
        "    'schoolid': 'Total Users',\n",
        "    'achievement_score': 'Average Risk Score'\n",
        "})"
      ],
      "metadata": {
        "id": "NP66nhYqjgZD"
      },
      "execution_count": 44,
      "outputs": []
    },
    {
      "cell_type": "code",
      "source": [
        "mindset_group['Average Risk Score'].astype(int)"
      ],
      "metadata": {
        "colab": {
          "base_uri": "https://localhost:8080/"
        },
        "id": "pOhvmTXixGjZ",
        "outputId": "e67f72d1-9f78-45ca-fafb-7b85c7032d1c"
      },
      "execution_count": 45,
      "outputs": [
        {
          "output_type": "execute_result",
          "data": {
            "text/plain": [
              "intervention\n",
              "0    0\n",
              "1    0\n",
              "Name: Average Risk Score, dtype: int64"
            ]
          },
          "metadata": {},
          "execution_count": 45
        }
      ]
    },
    {
      "cell_type": "code",
      "source": [
        "mindset_group.head()"
      ],
      "metadata": {
        "colab": {
          "base_uri": "https://localhost:8080/",
          "height": 144
        },
        "id": "gBl5F9srr4IP",
        "outputId": "14bf0787-2e8e-422b-c24e-49bc6645cecc"
      },
      "execution_count": 46,
      "outputs": [
        {
          "output_type": "execute_result",
          "data": {
            "text/plain": [
              "              Total Users  Average Risk Score\n",
              "intervention                                 \n",
              "0                      76           -0.083060\n",
              "1                      76            0.207447"
            ],
            "text/html": [
              "\n",
              "  <div id=\"df-58b3fcbb-7213-49cd-a107-db1f3bbf33b4\">\n",
              "    <div class=\"colab-df-container\">\n",
              "      <div>\n",
              "<style scoped>\n",
              "    .dataframe tbody tr th:only-of-type {\n",
              "        vertical-align: middle;\n",
              "    }\n",
              "\n",
              "    .dataframe tbody tr th {\n",
              "        vertical-align: top;\n",
              "    }\n",
              "\n",
              "    .dataframe thead th {\n",
              "        text-align: right;\n",
              "    }\n",
              "</style>\n",
              "<table border=\"1\" class=\"dataframe\">\n",
              "  <thead>\n",
              "    <tr style=\"text-align: right;\">\n",
              "      <th></th>\n",
              "      <th>Total Users</th>\n",
              "      <th>Average Risk Score</th>\n",
              "    </tr>\n",
              "    <tr>\n",
              "      <th>intervention</th>\n",
              "      <th></th>\n",
              "      <th></th>\n",
              "    </tr>\n",
              "  </thead>\n",
              "  <tbody>\n",
              "    <tr>\n",
              "      <th>0</th>\n",
              "      <td>76</td>\n",
              "      <td>-0.083060</td>\n",
              "    </tr>\n",
              "    <tr>\n",
              "      <th>1</th>\n",
              "      <td>76</td>\n",
              "      <td>0.207447</td>\n",
              "    </tr>\n",
              "  </tbody>\n",
              "</table>\n",
              "</div>\n",
              "      <button class=\"colab-df-convert\" onclick=\"convertToInteractive('df-58b3fcbb-7213-49cd-a107-db1f3bbf33b4')\"\n",
              "              title=\"Convert this dataframe to an interactive table.\"\n",
              "              style=\"display:none;\">\n",
              "        \n",
              "  <svg xmlns=\"http://www.w3.org/2000/svg\" height=\"24px\"viewBox=\"0 0 24 24\"\n",
              "       width=\"24px\">\n",
              "    <path d=\"M0 0h24v24H0V0z\" fill=\"none\"/>\n",
              "    <path d=\"M18.56 5.44l.94 2.06.94-2.06 2.06-.94-2.06-.94-.94-2.06-.94 2.06-2.06.94zm-11 1L8.5 8.5l.94-2.06 2.06-.94-2.06-.94L8.5 2.5l-.94 2.06-2.06.94zm10 10l.94 2.06.94-2.06 2.06-.94-2.06-.94-.94-2.06-.94 2.06-2.06.94z\"/><path d=\"M17.41 7.96l-1.37-1.37c-.4-.4-.92-.59-1.43-.59-.52 0-1.04.2-1.43.59L10.3 9.45l-7.72 7.72c-.78.78-.78 2.05 0 2.83L4 21.41c.39.39.9.59 1.41.59.51 0 1.02-.2 1.41-.59l7.78-7.78 2.81-2.81c.8-.78.8-2.07 0-2.86zM5.41 20L4 18.59l7.72-7.72 1.47 1.35L5.41 20z\"/>\n",
              "  </svg>\n",
              "      </button>\n",
              "      \n",
              "  <style>\n",
              "    .colab-df-container {\n",
              "      display:flex;\n",
              "      flex-wrap:wrap;\n",
              "      gap: 12px;\n",
              "    }\n",
              "\n",
              "    .colab-df-convert {\n",
              "      background-color: #E8F0FE;\n",
              "      border: none;\n",
              "      border-radius: 50%;\n",
              "      cursor: pointer;\n",
              "      display: none;\n",
              "      fill: #1967D2;\n",
              "      height: 32px;\n",
              "      padding: 0 0 0 0;\n",
              "      width: 32px;\n",
              "    }\n",
              "\n",
              "    .colab-df-convert:hover {\n",
              "      background-color: #E2EBFA;\n",
              "      box-shadow: 0px 1px 2px rgba(60, 64, 67, 0.3), 0px 1px 3px 1px rgba(60, 64, 67, 0.15);\n",
              "      fill: #174EA6;\n",
              "    }\n",
              "\n",
              "    [theme=dark] .colab-df-convert {\n",
              "      background-color: #3B4455;\n",
              "      fill: #D2E3FC;\n",
              "    }\n",
              "\n",
              "    [theme=dark] .colab-df-convert:hover {\n",
              "      background-color: #434B5C;\n",
              "      box-shadow: 0px 1px 3px 1px rgba(0, 0, 0, 0.15);\n",
              "      filter: drop-shadow(0px 1px 2px rgba(0, 0, 0, 0.3));\n",
              "      fill: #FFFFFF;\n",
              "    }\n",
              "  </style>\n",
              "\n",
              "      <script>\n",
              "        const buttonEl =\n",
              "          document.querySelector('#df-58b3fcbb-7213-49cd-a107-db1f3bbf33b4 button.colab-df-convert');\n",
              "        buttonEl.style.display =\n",
              "          google.colab.kernel.accessAllowed ? 'block' : 'none';\n",
              "\n",
              "        async function convertToInteractive(key) {\n",
              "          const element = document.querySelector('#df-58b3fcbb-7213-49cd-a107-db1f3bbf33b4');\n",
              "          const dataTable =\n",
              "            await google.colab.kernel.invokeFunction('convertToInteractive',\n",
              "                                                     [key], {});\n",
              "          if (!dataTable) return;\n",
              "\n",
              "          const docLinkHtml = 'Like what you see? Visit the ' +\n",
              "            '<a target=\"_blank\" href=https://colab.research.google.com/notebooks/data_table.ipynb>data table notebook</a>'\n",
              "            + ' to learn more about interactive tables.';\n",
              "          element.innerHTML = '';\n",
              "          dataTable['output_type'] = 'display_data';\n",
              "          await google.colab.output.renderOutput(dataTable, element);\n",
              "          const docLink = document.createElement('div');\n",
              "          docLink.innerHTML = docLinkHtml;\n",
              "          element.appendChild(docLink);\n",
              "        }\n",
              "      </script>\n",
              "    </div>\n",
              "  </div>\n",
              "  "
            ]
          },
          "metadata": {},
          "execution_count": 46
        }
      ]
    },
    {
      "cell_type": "code",
      "source": [
        "mindset.info()"
      ],
      "metadata": {
        "colab": {
          "base_uri": "https://localhost:8080/"
        },
        "outputId": "168dbaa0-97e2-4f72-df38-ea7fcf591160",
        "id": "u2ODC6lttZ0o"
      },
      "execution_count": 47,
      "outputs": [
        {
          "output_type": "stream",
          "name": "stdout",
          "text": [
            "<class 'pandas.core.frame.DataFrame'>\n",
            "RangeIndex: 10391 entries, 0 to 10390\n",
            "Data columns (total 13 columns):\n",
            " #   Column                  Non-Null Count  Dtype  \n",
            "---  ------                  --------------  -----  \n",
            " 0   schoolid                10391 non-null  int64  \n",
            " 1   intervention            10391 non-null  int64  \n",
            " 2   achievement_score       10391 non-null  int64  \n",
            " 3   success_expect          10391 non-null  int64  \n",
            " 4   ethnicity               10391 non-null  int64  \n",
            " 5   gender                  10391 non-null  int64  \n",
            " 6   frst_in_family          10391 non-null  int64  \n",
            " 7   school_urbanicity       10391 non-null  int64  \n",
            " 8   school_mindset          10391 non-null  float64\n",
            " 9   school_achievement      10391 non-null  float64\n",
            " 10  school_ethnic_minority  10391 non-null  float64\n",
            " 11  school_poverty          10391 non-null  int64  \n",
            " 12  school_size             10391 non-null  float64\n",
            "dtypes: float64(4), int64(9)\n",
            "memory usage: 1.0 MB\n"
          ]
        }
      ]
    },
    {
      "cell_type": "markdown",
      "source": [
        "# **Modeling**"
      ],
      "metadata": {
        "id": "a6iYNJA9mI23"
      }
    },
    {
      "cell_type": "markdown",
      "source": [
        "The model used this time for causal analyst analysis uses the OLS Regression model. Using this model because they want to measure the P value or no significant impact on the treatment carried out."
      ],
      "metadata": {
        "id": "Usaic3_N18yf"
      }
    },
    {
      "cell_type": "code",
      "source": [
        "# define Y and X variable\n",
        "Y = mindset['achievement_score']\n",
        "X = mindset['intervention']"
      ],
      "metadata": {
        "id": "Axmc4zMl5LQ0"
      },
      "execution_count": 48,
      "outputs": []
    },
    {
      "cell_type": "code",
      "source": [
        "X = sm.add_constant(X)\n",
        "X"
      ],
      "metadata": {
        "colab": {
          "base_uri": "https://localhost:8080/",
          "height": 424
        },
        "id": "PwKR3biL5lAu",
        "outputId": "9ffa4970-ab0c-412e-c2f9-72b9d6869c25"
      },
      "execution_count": 49,
      "outputs": [
        {
          "output_type": "execute_result",
          "data": {
            "text/plain": [
              "       const  intervention\n",
              "0        1.0             1\n",
              "1        1.0             1\n",
              "2        1.0             1\n",
              "3        1.0             1\n",
              "4        1.0             1\n",
              "...      ...           ...\n",
              "10386    1.0             0\n",
              "10387    1.0             0\n",
              "10388    1.0             0\n",
              "10389    1.0             0\n",
              "10390    1.0             0\n",
              "\n",
              "[10391 rows x 2 columns]"
            ],
            "text/html": [
              "\n",
              "  <div id=\"df-0f16fad9-06a6-4d3a-b80d-80b6b64c1ff9\">\n",
              "    <div class=\"colab-df-container\">\n",
              "      <div>\n",
              "<style scoped>\n",
              "    .dataframe tbody tr th:only-of-type {\n",
              "        vertical-align: middle;\n",
              "    }\n",
              "\n",
              "    .dataframe tbody tr th {\n",
              "        vertical-align: top;\n",
              "    }\n",
              "\n",
              "    .dataframe thead th {\n",
              "        text-align: right;\n",
              "    }\n",
              "</style>\n",
              "<table border=\"1\" class=\"dataframe\">\n",
              "  <thead>\n",
              "    <tr style=\"text-align: right;\">\n",
              "      <th></th>\n",
              "      <th>const</th>\n",
              "      <th>intervention</th>\n",
              "    </tr>\n",
              "  </thead>\n",
              "  <tbody>\n",
              "    <tr>\n",
              "      <th>0</th>\n",
              "      <td>1.0</td>\n",
              "      <td>1</td>\n",
              "    </tr>\n",
              "    <tr>\n",
              "      <th>1</th>\n",
              "      <td>1.0</td>\n",
              "      <td>1</td>\n",
              "    </tr>\n",
              "    <tr>\n",
              "      <th>2</th>\n",
              "      <td>1.0</td>\n",
              "      <td>1</td>\n",
              "    </tr>\n",
              "    <tr>\n",
              "      <th>3</th>\n",
              "      <td>1.0</td>\n",
              "      <td>1</td>\n",
              "    </tr>\n",
              "    <tr>\n",
              "      <th>4</th>\n",
              "      <td>1.0</td>\n",
              "      <td>1</td>\n",
              "    </tr>\n",
              "    <tr>\n",
              "      <th>...</th>\n",
              "      <td>...</td>\n",
              "      <td>...</td>\n",
              "    </tr>\n",
              "    <tr>\n",
              "      <th>10386</th>\n",
              "      <td>1.0</td>\n",
              "      <td>0</td>\n",
              "    </tr>\n",
              "    <tr>\n",
              "      <th>10387</th>\n",
              "      <td>1.0</td>\n",
              "      <td>0</td>\n",
              "    </tr>\n",
              "    <tr>\n",
              "      <th>10388</th>\n",
              "      <td>1.0</td>\n",
              "      <td>0</td>\n",
              "    </tr>\n",
              "    <tr>\n",
              "      <th>10389</th>\n",
              "      <td>1.0</td>\n",
              "      <td>0</td>\n",
              "    </tr>\n",
              "    <tr>\n",
              "      <th>10390</th>\n",
              "      <td>1.0</td>\n",
              "      <td>0</td>\n",
              "    </tr>\n",
              "  </tbody>\n",
              "</table>\n",
              "<p>10391 rows × 2 columns</p>\n",
              "</div>\n",
              "      <button class=\"colab-df-convert\" onclick=\"convertToInteractive('df-0f16fad9-06a6-4d3a-b80d-80b6b64c1ff9')\"\n",
              "              title=\"Convert this dataframe to an interactive table.\"\n",
              "              style=\"display:none;\">\n",
              "        \n",
              "  <svg xmlns=\"http://www.w3.org/2000/svg\" height=\"24px\"viewBox=\"0 0 24 24\"\n",
              "       width=\"24px\">\n",
              "    <path d=\"M0 0h24v24H0V0z\" fill=\"none\"/>\n",
              "    <path d=\"M18.56 5.44l.94 2.06.94-2.06 2.06-.94-2.06-.94-.94-2.06-.94 2.06-2.06.94zm-11 1L8.5 8.5l.94-2.06 2.06-.94-2.06-.94L8.5 2.5l-.94 2.06-2.06.94zm10 10l.94 2.06.94-2.06 2.06-.94-2.06-.94-.94-2.06-.94 2.06-2.06.94z\"/><path d=\"M17.41 7.96l-1.37-1.37c-.4-.4-.92-.59-1.43-.59-.52 0-1.04.2-1.43.59L10.3 9.45l-7.72 7.72c-.78.78-.78 2.05 0 2.83L4 21.41c.39.39.9.59 1.41.59.51 0 1.02-.2 1.41-.59l7.78-7.78 2.81-2.81c.8-.78.8-2.07 0-2.86zM5.41 20L4 18.59l7.72-7.72 1.47 1.35L5.41 20z\"/>\n",
              "  </svg>\n",
              "      </button>\n",
              "      \n",
              "  <style>\n",
              "    .colab-df-container {\n",
              "      display:flex;\n",
              "      flex-wrap:wrap;\n",
              "      gap: 12px;\n",
              "    }\n",
              "\n",
              "    .colab-df-convert {\n",
              "      background-color: #E8F0FE;\n",
              "      border: none;\n",
              "      border-radius: 50%;\n",
              "      cursor: pointer;\n",
              "      display: none;\n",
              "      fill: #1967D2;\n",
              "      height: 32px;\n",
              "      padding: 0 0 0 0;\n",
              "      width: 32px;\n",
              "    }\n",
              "\n",
              "    .colab-df-convert:hover {\n",
              "      background-color: #E2EBFA;\n",
              "      box-shadow: 0px 1px 2px rgba(60, 64, 67, 0.3), 0px 1px 3px 1px rgba(60, 64, 67, 0.15);\n",
              "      fill: #174EA6;\n",
              "    }\n",
              "\n",
              "    [theme=dark] .colab-df-convert {\n",
              "      background-color: #3B4455;\n",
              "      fill: #D2E3FC;\n",
              "    }\n",
              "\n",
              "    [theme=dark] .colab-df-convert:hover {\n",
              "      background-color: #434B5C;\n",
              "      box-shadow: 0px 1px 3px 1px rgba(0, 0, 0, 0.15);\n",
              "      filter: drop-shadow(0px 1px 2px rgba(0, 0, 0, 0.3));\n",
              "      fill: #FFFFFF;\n",
              "    }\n",
              "  </style>\n",
              "\n",
              "      <script>\n",
              "        const buttonEl =\n",
              "          document.querySelector('#df-0f16fad9-06a6-4d3a-b80d-80b6b64c1ff9 button.colab-df-convert');\n",
              "        buttonEl.style.display =\n",
              "          google.colab.kernel.accessAllowed ? 'block' : 'none';\n",
              "\n",
              "        async function convertToInteractive(key) {\n",
              "          const element = document.querySelector('#df-0f16fad9-06a6-4d3a-b80d-80b6b64c1ff9');\n",
              "          const dataTable =\n",
              "            await google.colab.kernel.invokeFunction('convertToInteractive',\n",
              "                                                     [key], {});\n",
              "          if (!dataTable) return;\n",
              "\n",
              "          const docLinkHtml = 'Like what you see? Visit the ' +\n",
              "            '<a target=\"_blank\" href=https://colab.research.google.com/notebooks/data_table.ipynb>data table notebook</a>'\n",
              "            + ' to learn more about interactive tables.';\n",
              "          element.innerHTML = '';\n",
              "          dataTable['output_type'] = 'display_data';\n",
              "          await google.colab.output.renderOutput(dataTable, element);\n",
              "          const docLink = document.createElement('div');\n",
              "          docLink.innerHTML = docLinkHtml;\n",
              "          element.appendChild(docLink);\n",
              "        }\n",
              "      </script>\n",
              "    </div>\n",
              "  </div>\n",
              "  "
            ]
          },
          "metadata": {},
          "execution_count": 49
        }
      ]
    },
    {
      "cell_type": "code",
      "source": [
        "# define model\n",
        "model = sm.OLS(Y, X)\n",
        "\n",
        "# fit model\n",
        "result = model.fit()"
      ],
      "metadata": {
        "id": "QDkNyVCr5tOP"
      },
      "execution_count": 50,
      "outputs": []
    },
    {
      "cell_type": "code",
      "source": [
        "# check model summary\n",
        "result.summary()"
      ],
      "metadata": {
        "colab": {
          "base_uri": "https://localhost:8080/",
          "height": 436
        },
        "id": "kcsz07rM5vwx",
        "outputId": "efdcea7f-7d8d-4950-e2a3-39103920ed35"
      },
      "execution_count": 51,
      "outputs": [
        {
          "output_type": "execute_result",
          "data": {
            "text/plain": [
              "<class 'statsmodels.iolib.summary.Summary'>\n",
              "\"\"\"\n",
              "                            OLS Regression Results                            \n",
              "==============================================================================\n",
              "Dep. Variable:      achievement_score   R-squared:                       0.040\n",
              "Model:                            OLS   Adj. R-squared:                  0.040\n",
              "Method:                 Least Squares   F-statistic:                     431.2\n",
              "Date:                Wed, 18 May 2022   Prob (F-statistic):           7.10e-94\n",
              "Time:                        17:05:37   Log-Likelihood:                -10555.\n",
              "No. Observations:               10391   AIC:                         2.111e+04\n",
              "Df Residuals:                   10389   BIC:                         2.113e+04\n",
              "Df Model:                           1                                         \n",
              "Covariance Type:            nonrobust                                         \n",
              "================================================================================\n",
              "                   coef    std err          t      P>|t|      [0.025      0.975]\n",
              "--------------------------------------------------------------------------------\n",
              "const           -0.0831      0.008    -10.404      0.000      -0.099      -0.067\n",
              "intervention     0.2905      0.014     20.765      0.000       0.263       0.318\n",
              "==============================================================================\n",
              "Omnibus:                      510.764   Durbin-Watson:                   1.845\n",
              "Prob(Omnibus):                  0.000   Jarque-Bera (JB):             1536.740\n",
              "Skew:                           0.205   Prob(JB):                         0.00\n",
              "Kurtosis:                       4.839   Cond. No.                         2.41\n",
              "==============================================================================\n",
              "\n",
              "Notes:\n",
              "[1] Standard Errors assume that the covariance matrix of the errors is correctly specified.\n",
              "\"\"\""
            ],
            "text/html": [
              "<table class=\"simpletable\">\n",
              "<caption>OLS Regression Results</caption>\n",
              "<tr>\n",
              "  <th>Dep. Variable:</th>    <td>achievement_score</td> <th>  R-squared:         </th> <td>   0.040</td> \n",
              "</tr>\n",
              "<tr>\n",
              "  <th>Model:</th>                   <td>OLS</td>        <th>  Adj. R-squared:    </th> <td>   0.040</td> \n",
              "</tr>\n",
              "<tr>\n",
              "  <th>Method:</th>             <td>Least Squares</td>   <th>  F-statistic:       </th> <td>   431.2</td> \n",
              "</tr>\n",
              "<tr>\n",
              "  <th>Date:</th>             <td>Wed, 18 May 2022</td>  <th>  Prob (F-statistic):</th> <td>7.10e-94</td> \n",
              "</tr>\n",
              "<tr>\n",
              "  <th>Time:</th>                 <td>17:05:37</td>      <th>  Log-Likelihood:    </th> <td> -10555.</td> \n",
              "</tr>\n",
              "<tr>\n",
              "  <th>No. Observations:</th>      <td> 10391</td>       <th>  AIC:               </th> <td>2.111e+04</td>\n",
              "</tr>\n",
              "<tr>\n",
              "  <th>Df Residuals:</th>          <td> 10389</td>       <th>  BIC:               </th> <td>2.113e+04</td>\n",
              "</tr>\n",
              "<tr>\n",
              "  <th>Df Model:</th>              <td>     1</td>       <th>                     </th>     <td> </td>    \n",
              "</tr>\n",
              "<tr>\n",
              "  <th>Covariance Type:</th>      <td>nonrobust</td>     <th>                     </th>     <td> </td>    \n",
              "</tr>\n",
              "</table>\n",
              "<table class=\"simpletable\">\n",
              "<tr>\n",
              "        <td></td>          <th>coef</th>     <th>std err</th>      <th>t</th>      <th>P>|t|</th>  <th>[0.025</th>    <th>0.975]</th>  \n",
              "</tr>\n",
              "<tr>\n",
              "  <th>const</th>        <td>   -0.0831</td> <td>    0.008</td> <td>  -10.404</td> <td> 0.000</td> <td>   -0.099</td> <td>   -0.067</td>\n",
              "</tr>\n",
              "<tr>\n",
              "  <th>intervention</th> <td>    0.2905</td> <td>    0.014</td> <td>   20.765</td> <td> 0.000</td> <td>    0.263</td> <td>    0.318</td>\n",
              "</tr>\n",
              "</table>\n",
              "<table class=\"simpletable\">\n",
              "<tr>\n",
              "  <th>Omnibus:</th>       <td>510.764</td> <th>  Durbin-Watson:     </th> <td>   1.845</td>\n",
              "</tr>\n",
              "<tr>\n",
              "  <th>Prob(Omnibus):</th> <td> 0.000</td>  <th>  Jarque-Bera (JB):  </th> <td>1536.740</td>\n",
              "</tr>\n",
              "<tr>\n",
              "  <th>Skew:</th>          <td> 0.205</td>  <th>  Prob(JB):          </th> <td>    0.00</td>\n",
              "</tr>\n",
              "<tr>\n",
              "  <th>Kurtosis:</th>      <td> 4.839</td>  <th>  Cond. No.          </th> <td>    2.41</td>\n",
              "</tr>\n",
              "</table><br/><br/>Notes:<br/>[1] Standard Errors assume that the covariance matrix of the errors is correctly specified."
            ]
          },
          "metadata": {},
          "execution_count": 51
        }
      ]
    },
    {
      "cell_type": "markdown",
      "source": [
        "Based on model summary, we find that there is positive impact of intervention for growmindset! Number of intervention is still low 0.29. It doesn't make sense, clearly. But how to fix it? We can use psmpy to do matching and create propensity score so we can estimate the real effect of it."
      ],
      "metadata": {
        "id": "jLkK0Ds5746Q"
      }
    },
    {
      "cell_type": "markdown",
      "source": [
        "# **Propensity Score Matching**"
      ],
      "metadata": {
        "id": "krModiLY8UXK"
      }
    },
    {
      "cell_type": "code",
      "source": [
        "psm = PsmPy(\n",
        "    mindset, \n",
        "    treatment = 'intervention', \n",
        "    indx='schoolid',\n",
        "    exclude=['ethnicity', 'gender', 'school_mindset', 'school_achievement', 'school_ethnic_minority', 'success_expect', 'school_size']\n",
        ")"
      ],
      "metadata": {
        "id": "ajxZ3rZk8Ysc"
      },
      "execution_count": 53,
      "outputs": []
    },
    {
      "cell_type": "markdown",
      "source": [
        "Create balanced samples when fitting the logistic regression model."
      ],
      "metadata": {
        "id": "i0-16WtN-Fb5"
      }
    },
    {
      "cell_type": "code",
      "source": [
        "psm.logistic_ps(balance=True)"
      ],
      "metadata": {
        "id": "D0MgY3CO-Jop"
      },
      "execution_count": 54,
      "outputs": []
    },
    {
      "cell_type": "markdown",
      "source": [
        "Check propensity score for each user"
      ],
      "metadata": {
        "id": "FegqeWrn-O7m"
      }
    },
    {
      "cell_type": "code",
      "source": [
        "psm.predicted_data"
      ],
      "metadata": {
        "colab": {
          "base_uri": "https://localhost:8080/",
          "height": 424
        },
        "id": "QfkLY86n-Q2V",
        "outputId": "094fec3c-17d7-4020-f621-cd17235393db"
      },
      "execution_count": 55,
      "outputs": [
        {
          "output_type": "execute_result",
          "data": {
            "text/plain": [
              "       schoolid  achievement_score  frst_in_family  school_urbanicity  \\\n",
              "0            76                 -2               1                  4   \n",
              "1            76                 -2               1                  4   \n",
              "2            76                 -2               1                  4   \n",
              "3            76                 -2               1                  4   \n",
              "4            76                 -2               1                  4   \n",
              "...         ...                ...             ...                ...   \n",
              "10386         1                  0               1                  3   \n",
              "10387         1                  0               1                  3   \n",
              "10388         1                  0               1                  3   \n",
              "10389         1                  0               1                  3   \n",
              "10390         1                  0               1                  3   \n",
              "\n",
              "       school_poverty  propensity_score  propensity_logit  intervention  \n",
              "0                   0          0.506760          0.027041             1  \n",
              "1                   0          0.506760          0.027041             1  \n",
              "2                   0          0.506760          0.027041             1  \n",
              "3                   0          0.506760          0.027041             1  \n",
              "4                   0          0.506760          0.027041             1  \n",
              "...               ...               ...               ...           ...  \n",
              "10386               1          0.484455         -0.062201             0  \n",
              "10387               1          0.484455         -0.062201             0  \n",
              "10388               1          0.484455         -0.062201             0  \n",
              "10389               1          0.484455         -0.062201             0  \n",
              "10390               1          0.484455         -0.062201             0  \n",
              "\n",
              "[10391 rows x 8 columns]"
            ],
            "text/html": [
              "\n",
              "  <div id=\"df-c9d240fa-d025-419e-819e-833c5cde2d5f\">\n",
              "    <div class=\"colab-df-container\">\n",
              "      <div>\n",
              "<style scoped>\n",
              "    .dataframe tbody tr th:only-of-type {\n",
              "        vertical-align: middle;\n",
              "    }\n",
              "\n",
              "    .dataframe tbody tr th {\n",
              "        vertical-align: top;\n",
              "    }\n",
              "\n",
              "    .dataframe thead th {\n",
              "        text-align: right;\n",
              "    }\n",
              "</style>\n",
              "<table border=\"1\" class=\"dataframe\">\n",
              "  <thead>\n",
              "    <tr style=\"text-align: right;\">\n",
              "      <th></th>\n",
              "      <th>schoolid</th>\n",
              "      <th>achievement_score</th>\n",
              "      <th>frst_in_family</th>\n",
              "      <th>school_urbanicity</th>\n",
              "      <th>school_poverty</th>\n",
              "      <th>propensity_score</th>\n",
              "      <th>propensity_logit</th>\n",
              "      <th>intervention</th>\n",
              "    </tr>\n",
              "  </thead>\n",
              "  <tbody>\n",
              "    <tr>\n",
              "      <th>0</th>\n",
              "      <td>76</td>\n",
              "      <td>-2</td>\n",
              "      <td>1</td>\n",
              "      <td>4</td>\n",
              "      <td>0</td>\n",
              "      <td>0.506760</td>\n",
              "      <td>0.027041</td>\n",
              "      <td>1</td>\n",
              "    </tr>\n",
              "    <tr>\n",
              "      <th>1</th>\n",
              "      <td>76</td>\n",
              "      <td>-2</td>\n",
              "      <td>1</td>\n",
              "      <td>4</td>\n",
              "      <td>0</td>\n",
              "      <td>0.506760</td>\n",
              "      <td>0.027041</td>\n",
              "      <td>1</td>\n",
              "    </tr>\n",
              "    <tr>\n",
              "      <th>2</th>\n",
              "      <td>76</td>\n",
              "      <td>-2</td>\n",
              "      <td>1</td>\n",
              "      <td>4</td>\n",
              "      <td>0</td>\n",
              "      <td>0.506760</td>\n",
              "      <td>0.027041</td>\n",
              "      <td>1</td>\n",
              "    </tr>\n",
              "    <tr>\n",
              "      <th>3</th>\n",
              "      <td>76</td>\n",
              "      <td>-2</td>\n",
              "      <td>1</td>\n",
              "      <td>4</td>\n",
              "      <td>0</td>\n",
              "      <td>0.506760</td>\n",
              "      <td>0.027041</td>\n",
              "      <td>1</td>\n",
              "    </tr>\n",
              "    <tr>\n",
              "      <th>4</th>\n",
              "      <td>76</td>\n",
              "      <td>-2</td>\n",
              "      <td>1</td>\n",
              "      <td>4</td>\n",
              "      <td>0</td>\n",
              "      <td>0.506760</td>\n",
              "      <td>0.027041</td>\n",
              "      <td>1</td>\n",
              "    </tr>\n",
              "    <tr>\n",
              "      <th>...</th>\n",
              "      <td>...</td>\n",
              "      <td>...</td>\n",
              "      <td>...</td>\n",
              "      <td>...</td>\n",
              "      <td>...</td>\n",
              "      <td>...</td>\n",
              "      <td>...</td>\n",
              "      <td>...</td>\n",
              "    </tr>\n",
              "    <tr>\n",
              "      <th>10386</th>\n",
              "      <td>1</td>\n",
              "      <td>0</td>\n",
              "      <td>1</td>\n",
              "      <td>3</td>\n",
              "      <td>1</td>\n",
              "      <td>0.484455</td>\n",
              "      <td>-0.062201</td>\n",
              "      <td>0</td>\n",
              "    </tr>\n",
              "    <tr>\n",
              "      <th>10387</th>\n",
              "      <td>1</td>\n",
              "      <td>0</td>\n",
              "      <td>1</td>\n",
              "      <td>3</td>\n",
              "      <td>1</td>\n",
              "      <td>0.484455</td>\n",
              "      <td>-0.062201</td>\n",
              "      <td>0</td>\n",
              "    </tr>\n",
              "    <tr>\n",
              "      <th>10388</th>\n",
              "      <td>1</td>\n",
              "      <td>0</td>\n",
              "      <td>1</td>\n",
              "      <td>3</td>\n",
              "      <td>1</td>\n",
              "      <td>0.484455</td>\n",
              "      <td>-0.062201</td>\n",
              "      <td>0</td>\n",
              "    </tr>\n",
              "    <tr>\n",
              "      <th>10389</th>\n",
              "      <td>1</td>\n",
              "      <td>0</td>\n",
              "      <td>1</td>\n",
              "      <td>3</td>\n",
              "      <td>1</td>\n",
              "      <td>0.484455</td>\n",
              "      <td>-0.062201</td>\n",
              "      <td>0</td>\n",
              "    </tr>\n",
              "    <tr>\n",
              "      <th>10390</th>\n",
              "      <td>1</td>\n",
              "      <td>0</td>\n",
              "      <td>1</td>\n",
              "      <td>3</td>\n",
              "      <td>1</td>\n",
              "      <td>0.484455</td>\n",
              "      <td>-0.062201</td>\n",
              "      <td>0</td>\n",
              "    </tr>\n",
              "  </tbody>\n",
              "</table>\n",
              "<p>10391 rows × 8 columns</p>\n",
              "</div>\n",
              "      <button class=\"colab-df-convert\" onclick=\"convertToInteractive('df-c9d240fa-d025-419e-819e-833c5cde2d5f')\"\n",
              "              title=\"Convert this dataframe to an interactive table.\"\n",
              "              style=\"display:none;\">\n",
              "        \n",
              "  <svg xmlns=\"http://www.w3.org/2000/svg\" height=\"24px\"viewBox=\"0 0 24 24\"\n",
              "       width=\"24px\">\n",
              "    <path d=\"M0 0h24v24H0V0z\" fill=\"none\"/>\n",
              "    <path d=\"M18.56 5.44l.94 2.06.94-2.06 2.06-.94-2.06-.94-.94-2.06-.94 2.06-2.06.94zm-11 1L8.5 8.5l.94-2.06 2.06-.94-2.06-.94L8.5 2.5l-.94 2.06-2.06.94zm10 10l.94 2.06.94-2.06 2.06-.94-2.06-.94-.94-2.06-.94 2.06-2.06.94z\"/><path d=\"M17.41 7.96l-1.37-1.37c-.4-.4-.92-.59-1.43-.59-.52 0-1.04.2-1.43.59L10.3 9.45l-7.72 7.72c-.78.78-.78 2.05 0 2.83L4 21.41c.39.39.9.59 1.41.59.51 0 1.02-.2 1.41-.59l7.78-7.78 2.81-2.81c.8-.78.8-2.07 0-2.86zM5.41 20L4 18.59l7.72-7.72 1.47 1.35L5.41 20z\"/>\n",
              "  </svg>\n",
              "      </button>\n",
              "      \n",
              "  <style>\n",
              "    .colab-df-container {\n",
              "      display:flex;\n",
              "      flex-wrap:wrap;\n",
              "      gap: 12px;\n",
              "    }\n",
              "\n",
              "    .colab-df-convert {\n",
              "      background-color: #E8F0FE;\n",
              "      border: none;\n",
              "      border-radius: 50%;\n",
              "      cursor: pointer;\n",
              "      display: none;\n",
              "      fill: #1967D2;\n",
              "      height: 32px;\n",
              "      padding: 0 0 0 0;\n",
              "      width: 32px;\n",
              "    }\n",
              "\n",
              "    .colab-df-convert:hover {\n",
              "      background-color: #E2EBFA;\n",
              "      box-shadow: 0px 1px 2px rgba(60, 64, 67, 0.3), 0px 1px 3px 1px rgba(60, 64, 67, 0.15);\n",
              "      fill: #174EA6;\n",
              "    }\n",
              "\n",
              "    [theme=dark] .colab-df-convert {\n",
              "      background-color: #3B4455;\n",
              "      fill: #D2E3FC;\n",
              "    }\n",
              "\n",
              "    [theme=dark] .colab-df-convert:hover {\n",
              "      background-color: #434B5C;\n",
              "      box-shadow: 0px 1px 3px 1px rgba(0, 0, 0, 0.15);\n",
              "      filter: drop-shadow(0px 1px 2px rgba(0, 0, 0, 0.3));\n",
              "      fill: #FFFFFF;\n",
              "    }\n",
              "  </style>\n",
              "\n",
              "      <script>\n",
              "        const buttonEl =\n",
              "          document.querySelector('#df-c9d240fa-d025-419e-819e-833c5cde2d5f button.colab-df-convert');\n",
              "        buttonEl.style.display =\n",
              "          google.colab.kernel.accessAllowed ? 'block' : 'none';\n",
              "\n",
              "        async function convertToInteractive(key) {\n",
              "          const element = document.querySelector('#df-c9d240fa-d025-419e-819e-833c5cde2d5f');\n",
              "          const dataTable =\n",
              "            await google.colab.kernel.invokeFunction('convertToInteractive',\n",
              "                                                     [key], {});\n",
              "          if (!dataTable) return;\n",
              "\n",
              "          const docLinkHtml = 'Like what you see? Visit the ' +\n",
              "            '<a target=\"_blank\" href=https://colab.research.google.com/notebooks/data_table.ipynb>data table notebook</a>'\n",
              "            + ' to learn more about interactive tables.';\n",
              "          element.innerHTML = '';\n",
              "          dataTable['output_type'] = 'display_data';\n",
              "          await google.colab.output.renderOutput(dataTable, element);\n",
              "          const docLink = document.createElement('div');\n",
              "          docLink.innerHTML = docLinkHtml;\n",
              "          element.appendChild(docLink);\n",
              "        }\n",
              "      </script>\n",
              "    </div>\n",
              "  </div>\n",
              "  "
            ]
          },
          "metadata": {},
          "execution_count": 55
        }
      ]
    },
    {
      "cell_type": "markdown",
      "source": [
        "Obtained the probability value of each user/id, for example in row index 0 ; has a 49% probability value of the treatment variable"
      ],
      "metadata": {
        "id": "BYm3eF_D-eNF"
      }
    },
    {
      "cell_type": "markdown",
      "source": [
        "Then we need to perform matching to eliminate the effect of confounders. Menggunakan KNN model karena untuk mengetahui jarak antar tiap user id dengan variable cofounder"
      ],
      "metadata": {
        "id": "nRjisTfR_vbX"
      }
    },
    {
      "cell_type": "code",
      "source": [
        "psm.knn_matched(matcher='propensity_logit', replacement=False, caliper=None)"
      ],
      "metadata": {
        "colab": {
          "base_uri": "https://localhost:8080/"
        },
        "id": "mghlUefR-5ov",
        "outputId": "1eaa65c6-88c1-4f4f-da1b-f8a3dd41c363"
      },
      "execution_count": 56,
      "outputs": [
        {
          "output_type": "stream",
          "name": "stderr",
          "text": [
            "/usr/local/lib/python3.7/dist-packages/sklearn/base.py:444: UserWarning: X has feature names, but NearestNeighbors was fitted without feature names\n",
            "  f\"X has feature names, but {self.__class__.__name__} was fitted without\"\n"
          ]
        }
      ]
    },
    {
      "cell_type": "markdown",
      "source": [
        "Plot matching result"
      ],
      "metadata": {
        "id": "AjftMoIb_87J"
      }
    },
    {
      "cell_type": "code",
      "source": [
        "psm.plot_match(\n",
        "    Ylabel = 'Number of Student',\n",
        "    save = False\n",
        ")"
      ],
      "metadata": {
        "colab": {
          "base_uri": "https://localhost:8080/",
          "height": 526
        },
        "id": "hn-vNzAG_99x",
        "outputId": "d2fbe188-69d5-4808-b639-b34d6e965a4b"
      },
      "execution_count": 59,
      "outputs": [
        {
          "output_type": "display_data",
          "data": {
            "text/plain": [
              "<Figure size 720x576 with 1 Axes>"
            ],
            "image/png": "[encoded data removed]"
          },
          "metadata": {}
        }
      ]
    },
    {
      "cell_type": "markdown",
      "source": [
        "Distribution from treatment and control have been balance and might be forward !!"
      ],
      "metadata": {
        "id": "To0cObACB_yQ"
      }
    },
    {
      "cell_type": "markdown",
      "source": [
        "Check effect size of each covariates"
      ],
      "metadata": {
        "id": "mA7ANI3nB7UE"
      }
    },
    {
      "cell_type": "code",
      "source": [
        "psm.effect_size_plot(save=False)"
      ],
      "metadata": {
        "colab": {
          "base_uri": "https://localhost:8080/",
          "height": 526
        },
        "id": "huYhTyK9B6-T",
        "outputId": "ee9e2d99-4328-4f10-ab6b-86d4771a5c24"
      },
      "execution_count": 60,
      "outputs": [
        {
          "output_type": "display_data",
          "data": {
            "text/plain": [
              "<Figure size 720x576 with 1 Axes>"
            ],
            "image/png": "[encoded data removed]"
          },
          "metadata": {}
        }
      ]
    },
    {
      "cell_type": "markdown",
      "source": [
        "Due to intrepretable variable from achievement_score, success_expect, first_in_family and school_urbanicity have effect size 0 and match is clearly or could be ignored"
      ],
      "metadata": {
        "id": "WpdxrOdHCs2y"
      }
    },
    {
      "cell_type": "markdown",
      "source": [
        "Compare mathed data with our raw data"
      ],
      "metadata": {
        "id": "TsTBAPqjDdEa"
      }
    },
    {
      "cell_type": "code",
      "source": [
        "psm.df_matched.info()"
      ],
      "metadata": {
        "colab": {
          "base_uri": "https://localhost:8080/"
        },
        "id": "VAckjnzxDWmc",
        "outputId": "bd22a201-834e-4133-fc4e-1be154ee61ad"
      },
      "execution_count": 61,
      "outputs": [
        {
          "output_type": "stream",
          "name": "stdout",
          "text": [
            "<class 'pandas.core.frame.DataFrame'>\n",
            "RangeIndex: 6768 entries, 0 to 6767\n",
            "Data columns (total 8 columns):\n",
            " #   Column             Non-Null Count  Dtype  \n",
            "---  ------             --------------  -----  \n",
            " 0   schoolid           6768 non-null   int64  \n",
            " 1   achievement_score  6768 non-null   int64  \n",
            " 2   frst_in_family     6768 non-null   int64  \n",
            " 3   school_urbanicity  6768 non-null   int64  \n",
            " 4   school_poverty     6768 non-null   int64  \n",
            " 5   propensity_score   6768 non-null   float64\n",
            " 6   propensity_logit   6768 non-null   float64\n",
            " 7   intervention       6768 non-null   int64  \n",
            "dtypes: float64(2), int64(6)\n",
            "memory usage: 423.1 KB\n"
          ]
        }
      ]
    },
    {
      "cell_type": "code",
      "source": [
        "mindset.info()"
      ],
      "metadata": {
        "colab": {
          "base_uri": "https://localhost:8080/"
        },
        "id": "ooXxsEeTDoOf",
        "outputId": "b06a4248-0e55-490b-bac9-26a180e878a3"
      },
      "execution_count": 62,
      "outputs": [
        {
          "output_type": "stream",
          "name": "stdout",
          "text": [
            "<class 'pandas.core.frame.DataFrame'>\n",
            "RangeIndex: 10391 entries, 0 to 10390\n",
            "Data columns (total 13 columns):\n",
            " #   Column                  Non-Null Count  Dtype  \n",
            "---  ------                  --------------  -----  \n",
            " 0   schoolid                10391 non-null  int64  \n",
            " 1   intervention            10391 non-null  int64  \n",
            " 2   achievement_score       10391 non-null  int64  \n",
            " 3   success_expect          10391 non-null  int64  \n",
            " 4   ethnicity               10391 non-null  int64  \n",
            " 5   gender                  10391 non-null  int64  \n",
            " 6   frst_in_family          10391 non-null  int64  \n",
            " 7   school_urbanicity       10391 non-null  int64  \n",
            " 8   school_mindset          10391 non-null  float64\n",
            " 9   school_achievement      10391 non-null  float64\n",
            " 10  school_ethnic_minority  10391 non-null  float64\n",
            " 11  school_poverty          10391 non-null  int64  \n",
            " 12  school_size             10391 non-null  float64\n",
            "dtypes: float64(4), int64(9)\n",
            "memory usage: 1.0 MB\n"
          ]
        }
      ]
    },
    {
      "cell_type": "markdown",
      "source": [
        "# **Prepare data for modeling**"
      ],
      "metadata": {
        "id": "-9_3zOwBDwqf"
      }
    },
    {
      "cell_type": "code",
      "source": [
        "matched_data = pd.merge(psm.df_matched, mindset[['schoolid', 'achievement_score']], how = 'inner')"
      ],
      "metadata": {
        "id": "HlaB22M0DtmI"
      },
      "execution_count": 63,
      "outputs": []
    },
    {
      "cell_type": "code",
      "source": [
        "matched_data"
      ],
      "metadata": {
        "colab": {
          "base_uri": "https://localhost:8080/",
          "height": 424
        },
        "id": "aKBOqG1uEEuA",
        "outputId": "03b8fe3b-1a97-484c-a315-1879a89aadf0"
      },
      "execution_count": 64,
      "outputs": [
        {
          "output_type": "execute_result",
          "data": {
            "text/plain": [
              "        schoolid  achievement_score  frst_in_family  school_urbanicity  \\\n",
              "0             76                 -2               1                  4   \n",
              "1             76                 -2               1                  4   \n",
              "2             76                 -2               1                  4   \n",
              "3             76                 -2               1                  4   \n",
              "4             76                 -2               1                  4   \n",
              "...          ...                ...             ...                ...   \n",
              "735327         1                  0               1                  3   \n",
              "735328         1                  0               1                  3   \n",
              "735329         1                  0               1                  3   \n",
              "735330         1                  0               1                  3   \n",
              "735331         1                  0               1                  3   \n",
              "\n",
              "        school_poverty  propensity_score  propensity_logit  intervention  \n",
              "0                    0          0.506760          0.027041             1  \n",
              "1                    0          0.506760          0.027041             1  \n",
              "2                    0          0.506760          0.027041             1  \n",
              "3                    0          0.506760          0.027041             1  \n",
              "4                    0          0.506760          0.027041             1  \n",
              "...                ...               ...               ...           ...  \n",
              "735327               1          0.484455         -0.062201             0  \n",
              "735328               1          0.484455         -0.062201             0  \n",
              "735329               1          0.484455         -0.062201             0  \n",
              "735330               1          0.484455         -0.062201             0  \n",
              "735331               1          0.484455         -0.062201             0  \n",
              "\n",
              "[735332 rows x 8 columns]"
            ],
            "text/html": [
              "\n",
              "  <div id=\"df-8dc622b6-6e18-4711-836c-9a39100f32f9\">\n",
              "    <div class=\"colab-df-container\">\n",
              "      <div>\n",
              "<style scoped>\n",
              "    .dataframe tbody tr th:only-of-type {\n",
              "        vertical-align: middle;\n",
              "    }\n",
              "\n",
              "    .dataframe tbody tr th {\n",
              "        vertical-align: top;\n",
              "    }\n",
              "\n",
              "    .dataframe thead th {\n",
              "        text-align: right;\n",
              "    }\n",
              "</style>\n",
              "<table border=\"1\" class=\"dataframe\">\n",
              "  <thead>\n",
              "    <tr style=\"text-align: right;\">\n",
              "      <th></th>\n",
              "      <th>schoolid</th>\n",
              "      <th>achievement_score</th>\n",
              "      <th>frst_in_family</th>\n",
              "      <th>school_urbanicity</th>\n",
              "      <th>school_poverty</th>\n",
              "      <th>propensity_score</th>\n",
              "      <th>propensity_logit</th>\n",
              "      <th>intervention</th>\n",
              "    </tr>\n",
              "  </thead>\n",
              "  <tbody>\n",
              "    <tr>\n",
              "      <th>0</th>\n",
              "      <td>76</td>\n",
              "      <td>-2</td>\n",
              "      <td>1</td>\n",
              "      <td>4</td>\n",
              "      <td>0</td>\n",
              "      <td>0.506760</td>\n",
              "      <td>0.027041</td>\n",
              "      <td>1</td>\n",
              "    </tr>\n",
              "    <tr>\n",
              "      <th>1</th>\n",
              "      <td>76</td>\n",
              "      <td>-2</td>\n",
              "      <td>1</td>\n",
              "      <td>4</td>\n",
              "      <td>0</td>\n",
              "      <td>0.506760</td>\n",
              "      <td>0.027041</td>\n",
              "      <td>1</td>\n",
              "    </tr>\n",
              "    <tr>\n",
              "      <th>2</th>\n",
              "      <td>76</td>\n",
              "      <td>-2</td>\n",
              "      <td>1</td>\n",
              "      <td>4</td>\n",
              "      <td>0</td>\n",
              "      <td>0.506760</td>\n",
              "      <td>0.027041</td>\n",
              "      <td>1</td>\n",
              "    </tr>\n",
              "    <tr>\n",
              "      <th>3</th>\n",
              "      <td>76</td>\n",
              "      <td>-2</td>\n",
              "      <td>1</td>\n",
              "      <td>4</td>\n",
              "      <td>0</td>\n",
              "      <td>0.506760</td>\n",
              "      <td>0.027041</td>\n",
              "      <td>1</td>\n",
              "    </tr>\n",
              "    <tr>\n",
              "      <th>4</th>\n",
              "      <td>76</td>\n",
              "      <td>-2</td>\n",
              "      <td>1</td>\n",
              "      <td>4</td>\n",
              "      <td>0</td>\n",
              "      <td>0.506760</td>\n",
              "      <td>0.027041</td>\n",
              "      <td>1</td>\n",
              "    </tr>\n",
              "    <tr>\n",
              "      <th>...</th>\n",
              "      <td>...</td>\n",
              "      <td>...</td>\n",
              "      <td>...</td>\n",
              "      <td>...</td>\n",
              "      <td>...</td>\n",
              "      <td>...</td>\n",
              "      <td>...</td>\n",
              "      <td>...</td>\n",
              "    </tr>\n",
              "    <tr>\n",
              "      <th>735327</th>\n",
              "      <td>1</td>\n",
              "      <td>0</td>\n",
              "      <td>1</td>\n",
              "      <td>3</td>\n",
              "      <td>1</td>\n",
              "      <td>0.484455</td>\n",
              "      <td>-0.062201</td>\n",
              "      <td>0</td>\n",
              "    </tr>\n",
              "    <tr>\n",
              "      <th>735328</th>\n",
              "      <td>1</td>\n",
              "      <td>0</td>\n",
              "      <td>1</td>\n",
              "      <td>3</td>\n",
              "      <td>1</td>\n",
              "      <td>0.484455</td>\n",
              "      <td>-0.062201</td>\n",
              "      <td>0</td>\n",
              "    </tr>\n",
              "    <tr>\n",
              "      <th>735329</th>\n",
              "      <td>1</td>\n",
              "      <td>0</td>\n",
              "      <td>1</td>\n",
              "      <td>3</td>\n",
              "      <td>1</td>\n",
              "      <td>0.484455</td>\n",
              "      <td>-0.062201</td>\n",
              "      <td>0</td>\n",
              "    </tr>\n",
              "    <tr>\n",
              "      <th>735330</th>\n",
              "      <td>1</td>\n",
              "      <td>0</td>\n",
              "      <td>1</td>\n",
              "      <td>3</td>\n",
              "      <td>1</td>\n",
              "      <td>0.484455</td>\n",
              "      <td>-0.062201</td>\n",
              "      <td>0</td>\n",
              "    </tr>\n",
              "    <tr>\n",
              "      <th>735331</th>\n",
              "      <td>1</td>\n",
              "      <td>0</td>\n",
              "      <td>1</td>\n",
              "      <td>3</td>\n",
              "      <td>1</td>\n",
              "      <td>0.484455</td>\n",
              "      <td>-0.062201</td>\n",
              "      <td>0</td>\n",
              "    </tr>\n",
              "  </tbody>\n",
              "</table>\n",
              "<p>735332 rows × 8 columns</p>\n",
              "</div>\n",
              "      <button class=\"colab-df-convert\" onclick=\"convertToInteractive('df-8dc622b6-6e18-4711-836c-9a39100f32f9')\"\n",
              "              title=\"Convert this dataframe to an interactive table.\"\n",
              "              style=\"display:none;\">\n",
              "        \n",
              "  <svg xmlns=\"http://www.w3.org/2000/svg\" height=\"24px\"viewBox=\"0 0 24 24\"\n",
              "       width=\"24px\">\n",
              "    <path d=\"M0 0h24v24H0V0z\" fill=\"none\"/>\n",
              "    <path d=\"M18.56 5.44l.94 2.06.94-2.06 2.06-.94-2.06-.94-.94-2.06-.94 2.06-2.06.94zm-11 1L8.5 8.5l.94-2.06 2.06-.94-2.06-.94L8.5 2.5l-.94 2.06-2.06.94zm10 10l.94 2.06.94-2.06 2.06-.94-2.06-.94-.94-2.06-.94 2.06-2.06.94z\"/><path d=\"M17.41 7.96l-1.37-1.37c-.4-.4-.92-.59-1.43-.59-.52 0-1.04.2-1.43.59L10.3 9.45l-7.72 7.72c-.78.78-.78 2.05 0 2.83L4 21.41c.39.39.9.59 1.41.59.51 0 1.02-.2 1.41-.59l7.78-7.78 2.81-2.81c.8-.78.8-2.07 0-2.86zM5.41 20L4 18.59l7.72-7.72 1.47 1.35L5.41 20z\"/>\n",
              "  </svg>\n",
              "      </button>\n",
              "      \n",
              "  <style>\n",
              "    .colab-df-container {\n",
              "      display:flex;\n",
              "      flex-wrap:wrap;\n",
              "      gap: 12px;\n",
              "    }\n",
              "\n",
              "    .colab-df-convert {\n",
              "      background-color: #E8F0FE;\n",
              "      border: none;\n",
              "      border-radius: 50%;\n",
              "      cursor: pointer;\n",
              "      display: none;\n",
              "      fill: #1967D2;\n",
              "      height: 32px;\n",
              "      padding: 0 0 0 0;\n",
              "      width: 32px;\n",
              "    }\n",
              "\n",
              "    .colab-df-convert:hover {\n",
              "      background-color: #E2EBFA;\n",
              "      box-shadow: 0px 1px 2px rgba(60, 64, 67, 0.3), 0px 1px 3px 1px rgba(60, 64, 67, 0.15);\n",
              "      fill: #174EA6;\n",
              "    }\n",
              "\n",
              "    [theme=dark] .colab-df-convert {\n",
              "      background-color: #3B4455;\n",
              "      fill: #D2E3FC;\n",
              "    }\n",
              "\n",
              "    [theme=dark] .colab-df-convert:hover {\n",
              "      background-color: #434B5C;\n",
              "      box-shadow: 0px 1px 3px 1px rgba(0, 0, 0, 0.15);\n",
              "      filter: drop-shadow(0px 1px 2px rgba(0, 0, 0, 0.3));\n",
              "      fill: #FFFFFF;\n",
              "    }\n",
              "  </style>\n",
              "\n",
              "      <script>\n",
              "        const buttonEl =\n",
              "          document.querySelector('#df-8dc622b6-6e18-4711-836c-9a39100f32f9 button.colab-df-convert');\n",
              "        buttonEl.style.display =\n",
              "          google.colab.kernel.accessAllowed ? 'block' : 'none';\n",
              "\n",
              "        async function convertToInteractive(key) {\n",
              "          const element = document.querySelector('#df-8dc622b6-6e18-4711-836c-9a39100f32f9');\n",
              "          const dataTable =\n",
              "            await google.colab.kernel.invokeFunction('convertToInteractive',\n",
              "                                                     [key], {});\n",
              "          if (!dataTable) return;\n",
              "\n",
              "          const docLinkHtml = 'Like what you see? Visit the ' +\n",
              "            '<a target=\"_blank\" href=https://colab.research.google.com/notebooks/data_table.ipynb>data table notebook</a>'\n",
              "            + ' to learn more about interactive tables.';\n",
              "          element.innerHTML = '';\n",
              "          dataTable['output_type'] = 'display_data';\n",
              "          await google.colab.output.renderOutput(dataTable, element);\n",
              "          const docLink = document.createElement('div');\n",
              "          docLink.innerHTML = docLinkHtml;\n",
              "          element.appendChild(docLink);\n",
              "        }\n",
              "      </script>\n",
              "    </div>\n",
              "  </div>\n",
              "  "
            ]
          },
          "metadata": {},
          "execution_count": 64
        }
      ]
    },
    {
      "cell_type": "markdown",
      "source": [
        "Modeling with Propensity Score"
      ],
      "metadata": {
        "id": "m-YgCp_5EUpa"
      }
    },
    {
      "cell_type": "markdown",
      "source": [
        "Define Y, X, and weight variable"
      ],
      "metadata": {
        "id": "pxn2Up_WEX11"
      }
    },
    {
      "cell_type": "code",
      "source": [
        "Y = matched_data['achievement_score']\n",
        "X = matched_data['intervention']\n",
        "weight = matched_data['propensity_score']"
      ],
      "metadata": {
        "id": "Hy4rvAbDEaXu"
      },
      "execution_count": 65,
      "outputs": []
    },
    {
      "cell_type": "code",
      "source": [
        "X = sm.add_constant(X)"
      ],
      "metadata": {
        "id": "-ZFCHmM_EikP"
      },
      "execution_count": 66,
      "outputs": []
    },
    {
      "cell_type": "markdown",
      "source": [
        "**Define and fit model**"
      ],
      "metadata": {
        "id": "etYRxLJ7ElFw"
      }
    },
    {
      "cell_type": "code",
      "source": [
        "# define model\n",
        "model = sm.WLS(Y, X, weights = weight)\n",
        "\n",
        "# fit model\n",
        "result = model.fit()"
      ],
      "metadata": {
        "id": "XQQBNMtMEpor"
      },
      "execution_count": 67,
      "outputs": []
    },
    {
      "cell_type": "markdown",
      "source": [
        "# **Check model summary**"
      ],
      "metadata": {
        "id": "GEI2ssE3Et56"
      }
    },
    {
      "cell_type": "code",
      "source": [
        "result.summary()"
      ],
      "metadata": {
        "colab": {
          "base_uri": "https://localhost:8080/",
          "height": 436
        },
        "id": "AIi9nVbPEwwx",
        "outputId": "43f51d13-2420-42ac-b6fa-c63311321561"
      },
      "execution_count": 68,
      "outputs": [
        {
          "output_type": "execute_result",
          "data": {
            "text/plain": [
              "<class 'statsmodels.iolib.summary.Summary'>\n",
              "\"\"\"\n",
              "                            WLS Regression Results                            \n",
              "==============================================================================\n",
              "Dep. Variable:      achievement_score   R-squared:                       0.000\n",
              "Model:                            WLS   Adj. R-squared:                 -0.000\n",
              "Method:                 Least Squares   F-statistic:                 1.520e-07\n",
              "Date:                Wed, 18 May 2022   Prob (F-statistic):               1.00\n",
              "Time:                        17:15:38   Log-Likelihood:            -1.9187e+05\n",
              "No. Observations:              735332   AIC:                         3.837e+05\n",
              "Df Residuals:                  735330   BIC:                         3.838e+05\n",
              "Df Model:                           1                                         \n",
              "Covariance Type:            nonrobust                                         \n",
              "================================================================================\n",
              "                   coef    std err          t      P>|t|      [0.025      0.975]\n",
              "--------------------------------------------------------------------------------\n",
              "const            0.0197      0.001     38.147      0.000       0.019       0.021\n",
              "intervention  6.888e-16      0.001   9.41e-13      1.000      -0.001       0.001\n",
              "==============================================================================\n",
              "Omnibus:                   206552.676   Durbin-Watson:                   0.001\n",
              "Prob(Omnibus):                  0.000   Jarque-Bera (JB):          4892222.127\n",
              "Skew:                           0.810   Prob(JB):                         0.00\n",
              "Kurtosis:                      15.532   Cond. No.                         2.62\n",
              "==============================================================================\n",
              "\n",
              "Notes:\n",
              "[1] Standard Errors assume that the covariance matrix of the errors is correctly specified.\n",
              "\"\"\""
            ],
            "text/html": [
              "<table class=\"simpletable\">\n",
              "<caption>WLS Regression Results</caption>\n",
              "<tr>\n",
              "  <th>Dep. Variable:</th>    <td>achievement_score</td> <th>  R-squared:         </th>  <td>   0.000</td>  \n",
              "</tr>\n",
              "<tr>\n",
              "  <th>Model:</th>                   <td>WLS</td>        <th>  Adj. R-squared:    </th>  <td>  -0.000</td>  \n",
              "</tr>\n",
              "<tr>\n",
              "  <th>Method:</th>             <td>Least Squares</td>   <th>  F-statistic:       </th>  <td>1.520e-07</td> \n",
              "</tr>\n",
              "<tr>\n",
              "  <th>Date:</th>             <td>Wed, 18 May 2022</td>  <th>  Prob (F-statistic):</th>   <td>  1.00</td>   \n",
              "</tr>\n",
              "<tr>\n",
              "  <th>Time:</th>                 <td>17:15:38</td>      <th>  Log-Likelihood:    </th> <td>-1.9187e+05</td>\n",
              "</tr>\n",
              "<tr>\n",
              "  <th>No. Observations:</th>      <td>735332</td>       <th>  AIC:               </th>  <td>3.837e+05</td> \n",
              "</tr>\n",
              "<tr>\n",
              "  <th>Df Residuals:</th>          <td>735330</td>       <th>  BIC:               </th>  <td>3.838e+05</td> \n",
              "</tr>\n",
              "<tr>\n",
              "  <th>Df Model:</th>              <td>     1</td>       <th>                     </th>      <td> </td>     \n",
              "</tr>\n",
              "<tr>\n",
              "  <th>Covariance Type:</th>      <td>nonrobust</td>     <th>                     </th>      <td> </td>     \n",
              "</tr>\n",
              "</table>\n",
              "<table class=\"simpletable\">\n",
              "<tr>\n",
              "        <td></td>          <th>coef</th>     <th>std err</th>      <th>t</th>      <th>P>|t|</th>  <th>[0.025</th>    <th>0.975]</th>  \n",
              "</tr>\n",
              "<tr>\n",
              "  <th>const</th>        <td>    0.0197</td> <td>    0.001</td> <td>   38.147</td> <td> 0.000</td> <td>    0.019</td> <td>    0.021</td>\n",
              "</tr>\n",
              "<tr>\n",
              "  <th>intervention</th> <td> 6.888e-16</td> <td>    0.001</td> <td> 9.41e-13</td> <td> 1.000</td> <td>   -0.001</td> <td>    0.001</td>\n",
              "</tr>\n",
              "</table>\n",
              "<table class=\"simpletable\">\n",
              "<tr>\n",
              "  <th>Omnibus:</th>       <td>206552.676</td> <th>  Durbin-Watson:     </th>  <td>   0.001</td>  \n",
              "</tr>\n",
              "<tr>\n",
              "  <th>Prob(Omnibus):</th>   <td> 0.000</td>   <th>  Jarque-Bera (JB):  </th> <td>4892222.127</td>\n",
              "</tr>\n",
              "<tr>\n",
              "  <th>Skew:</th>            <td> 0.810</td>   <th>  Prob(JB):          </th>  <td>    0.00</td>  \n",
              "</tr>\n",
              "<tr>\n",
              "  <th>Kurtosis:</th>        <td>15.532</td>   <th>  Cond. No.          </th>  <td>    2.62</td>  \n",
              "</tr>\n",
              "</table><br/><br/>Notes:<br/>[1] Standard Errors assume that the covariance matrix of the errors is correctly specified."
            ]
          },
          "metadata": {},
          "execution_count": 68
        }
      ]
    },
    {
      "cell_type": "markdown",
      "source": [
        "The conclusion from the prediction analysis after the previous match is 0.2905 to 6.888e-16, this is significantly reduced, meaning it has decreased, but for the p-value of the intervention, it shows that after being matched to the data there is nothing significant about the intervention from the growmindsite study."
      ],
      "metadata": {
        "id": "nMu8Ho_qFASQ"
      }
    }
  ]
}